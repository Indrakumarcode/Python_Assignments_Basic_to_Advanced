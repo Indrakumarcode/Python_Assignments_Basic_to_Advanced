{
 "cells": [
  {
   "cell_type": "code",
   "execution_count": 3,
   "id": "86f4a745-a788-494f-a2cd-ef1d55e48663",
   "metadata": {},
   "outputs": [
    {
     "name": "stdout",
     "output_type": "stream",
     "text": [
      "miles =  12.42742\n"
     ]
    }
   ],
   "source": [
    "# Write a program to conver k/m into miles?(1km=0.621371miles)\n",
    "km = 20\n",
    "one_km = 0.621371\n",
    "print(\"miles = \",one_km*20)\n",
    "\n",
    "\n"
   ]
  },
  {
   "cell_type": "code",
   "execution_count": 5,
   "id": "5118dc00-2f95-4dc0-96c9-05cf020ad560",
   "metadata": {},
   "outputs": [
    {
     "name": "stdout",
     "output_type": "stream",
     "text": [
      "fahrenheit =  89.6\n"
     ]
    }
   ],
   "source": [
    "# Write a program to convert celsius to fahrenheit ?\n",
    "celsius = 32\n",
    "print(\"fahrenheit = \",(celsius * 9/5)+32)\n"
   ]
  },
  {
   "cell_type": "code",
   "execution_count": 7,
   "id": "0107db89-c77e-4e33-9802-9ae97c5a1fe5",
   "metadata": {},
   "outputs": [
    {
     "name": "stdout",
     "output_type": "stream",
     "text": [
      "Celsius =  4.444444444444445\n"
     ]
    }
   ],
   "source": [
    "# Write a program to convert fahrenheit to celsius?\n",
    "fahrenheit = 40\n",
    "print(\"Celsius = \",(fahrenheit-32)*5/9)\n"
   ]
  },
  {
   "cell_type": "code",
   "execution_count": 11,
   "id": "2aaf776d-110a-42c1-938f-10fe3349b8f4",
   "metadata": {},
   "outputs": [
    {
     "name": "stdout",
     "output_type": "stream",
     "text": [
      "                                  2025\n",
      "\n",
      "      January                   February                   March\n",
      "Mo Tu We Th Fr Sa Su      Mo Tu We Th Fr Sa Su      Mo Tu We Th Fr Sa Su\n",
      "       1  2  3  4  5                      1  2                      1  2\n",
      " 6  7  8  9 10 11 12       3  4  5  6  7  8  9       3  4  5  6  7  8  9\n",
      "13 14 15 16 17 18 19      10 11 12 13 14 15 16      10 11 12 13 14 15 16\n",
      "20 21 22 23 24 25 26      17 18 19 20 21 22 23      17 18 19 20 21 22 23\n",
      "27 28 29 30 31            24 25 26 27 28            24 25 26 27 28 29 30\n",
      "                                                    31\n",
      "\n",
      "       April                      May                       June\n",
      "Mo Tu We Th Fr Sa Su      Mo Tu We Th Fr Sa Su      Mo Tu We Th Fr Sa Su\n",
      "    1  2  3  4  5  6                1  2  3  4                         1\n",
      " 7  8  9 10 11 12 13       5  6  7  8  9 10 11       2  3  4  5  6  7  8\n",
      "14 15 16 17 18 19 20      12 13 14 15 16 17 18       9 10 11 12 13 14 15\n",
      "21 22 23 24 25 26 27      19 20 21 22 23 24 25      16 17 18 19 20 21 22\n",
      "28 29 30                  26 27 28 29 30 31         23 24 25 26 27 28 29\n",
      "                                                    30\n",
      "\n",
      "        July                     August                  September\n",
      "Mo Tu We Th Fr Sa Su      Mo Tu We Th Fr Sa Su      Mo Tu We Th Fr Sa Su\n",
      "    1  2  3  4  5  6                   1  2  3       1  2  3  4  5  6  7\n",
      " 7  8  9 10 11 12 13       4  5  6  7  8  9 10       8  9 10 11 12 13 14\n",
      "14 15 16 17 18 19 20      11 12 13 14 15 16 17      15 16 17 18 19 20 21\n",
      "21 22 23 24 25 26 27      18 19 20 21 22 23 24      22 23 24 25 26 27 28\n",
      "28 29 30 31               25 26 27 28 29 30 31      29 30\n",
      "\n",
      "      October                   November                  December\n",
      "Mo Tu We Th Fr Sa Su      Mo Tu We Th Fr Sa Su      Mo Tu We Th Fr Sa Su\n",
      "       1  2  3  4  5                      1  2       1  2  3  4  5  6  7\n",
      " 6  7  8  9 10 11 12       3  4  5  6  7  8  9       8  9 10 11 12 13 14\n",
      "13 14 15 16 17 18 19      10 11 12 13 14 15 16      15 16 17 18 19 20 21\n",
      "20 21 22 23 24 25 26      17 18 19 20 21 22 23      22 23 24 25 26 27 28\n",
      "27 28 29 30 31            24 25 26 27 28 29 30      29 30 31\n",
      "\n"
     ]
    }
   ],
   "source": [
    "# Write a program to print display calendar?\n",
    "import calendar\n",
    "yy = 2025\n",
    "# print calendar month(2025,1)\n",
    "print(calendar.calendar(yy))"
   ]
  },
  {
   "cell_type": "code",
   "execution_count": 19,
   "id": "24c1e984-3239-475c-8700-134714c0fd06",
   "metadata": {},
   "outputs": [
    {
     "name": "stdout",
     "output_type": "stream",
     "text": [
      "The root are :\n",
      "(-3.414213562373095+0j)\n",
      "(-0.5857864376269049+0j)\n"
     ]
    }
   ],
   "source": [
    "# Write a program to solve quadratic equation?\n",
    "import cmath\n",
    "a= 1\n",
    "b= 4 \n",
    "c= 2\n",
    "# Calculating the discrimnent\n",
    "dis = (b**2)-(4*a*c)\n",
    "# Find two results\n",
    "ans1 = (-b-cmath.sqrt(dis))/(2*a)\n",
    "ans2 = (-b+cmath.sqrt(dis))/(2*a)\n",
    "# The result are \n",
    "print(\"The root are :\")\n",
    "print(ans1)\n",
    "print(ans2)"
   ]
  },
  {
   "cell_type": "code",
   "execution_count": null,
   "id": "d7a737a1-9cee-4e67-8238-bbf8c066f1dc",
   "metadata": {},
   "outputs": [],
   "source": [
    "# Write a program to swap two variable without temp variable\n",
    "a = 10\n",
    "b =30\n",
    "# swaping using tuple unpacking\n",
    "a,b = b,a\n",
    "# after swaping\n",
    "print(\"After swap A\", a)\n",
    "print(\"After swap B\", b)\n,
   ]
  }
 ],
 "metadata": {
  "kernelspec": {
   "display_name": "Python 3 (ipykernel)",
   "language": "python",
   "name": "python3"
  },
  "language_info": {
   "codemirror_mode": {
    "name": "ipython",
    "version": 3
   },
   "file_extension": ".py",
   "mimetype": "text/x-python",
   "name": "python",
   "nbconvert_exporter": "python",
   "pygments_lexer": "ipython3",
   "version": "3.12.7"
  }
 },
 "nbformat": 4,
 "nbformat_minor": 5
}
