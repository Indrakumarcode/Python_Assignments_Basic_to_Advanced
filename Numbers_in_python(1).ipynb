{
 "cells": [
  {
   "cell_type": "code",
   "execution_count": 15,
   "id": "6f7d2c3f-9e3e-4fc4-adb6-973704e90069",
   "metadata": {},
   "outputs": [
    {
     "name": "stdout",
     "output_type": "stream",
     "text": [
      "Hello python\n"
     ]
    }
   ],
   "source": [
    "# 1.Write a python program to print (Hello Python)?\n",
    "print(\"Hello python\")"
   ]
  },
  {
   "cell_type": "code",
   "execution_count": 17,
   "id": "c33b5250-2f25-4091-9eba-0d3779dae146",
   "metadata": {},
   "outputs": [
    {
     "name": "stdout",
     "output_type": "stream",
     "text": [
      "Addition is =  30\n",
      "Division is =  0.5\n"
     ]
    }
   ],
   "source": [
    "# 2.Write a python program to print arithmatical operation (addition and division)?\n",
    "a = 10\n",
    "b = 20\n",
    "print(\"Addition is = \",a+b)\n",
    "print(\"Division is = \",a/b)"
   ]
  },
  {
   "cell_type": "code",
   "execution_count": 19,
   "id": "762d3be7-71e5-4d06-81de-457a04a214aa",
   "metadata": {},
   "outputs": [
    {
     "name": "stdout",
     "output_type": "stream",
     "text": [
      "Area = 100.0\n"
     ]
    }
   ],
   "source": [
    "# 3.Write a pyhton program find area of triangle (Area of a Triangle = A = ½ (b × h) square units)?\n",
    "b = 20\n",
    "h = 10 \n",
    "print(\"Area =\",0.5*(20*10))"
   ]
  },
  {
   "cell_type": "code",
   "execution_count": 32,
   "id": "d3a75aab-ae19-4049-89aa-372625c003bd",
   "metadata": {},
   "outputs": [
    {
     "name": "stdout",
     "output_type": "stream",
     "text": [
      "30\n",
      "Value of a = 30\n",
      "value of b = 10\n"
     ]
    }
   ],
   "source": [
    "# 4.write a program swap two variable?\n",
    "a = 10\n",
    "b = 30\n",
    "a,b = b,a\n",
    "\n",
    "print(\"Value of a =\",a)\n",
    "print(\"value of b =\",b)"
   ]
  },
  {
   "cell_type": "code",
   "execution_count": 50,
   "id": "57700e6c-0289-4771-8d21-f9edc2fc4133",
   "metadata": {},
   "outputs": [
    {
     "name": "stdout",
     "output_type": "stream",
     "text": [
      "0.9504535967267821\n"
     ]
    }
   ],
   "source": [
    "# 5.Write a python program generate random number?\n",
    "import random\n",
    "print(random.random())\n",
    "\n"
   ]
  },
  {
   "cell_type": "code",
   "execution_count": 60,
   "id": "ac3c7cc8-89fb-4b86-80ed-7169129b687c",
   "metadata": {},
   "outputs": [
    {
     "name": "stdout",
     "output_type": "stream",
     "text": [
      "Perimeter of Rectangle is = 46\n"
     ]
    }
   ],
   "source": [
    "# 6.Write a program find Perimeter of a Rectangle = 2(Length + Breadth) and use round( time,3)?\n",
    "length = 20\n",
    "breath = 3\n",
    "print(\"Perimeter of Rectangle is =\",2*(length+breath))\n",
    "\n",
    "\n"
   ]
  },
  {
   "cell_type": "code",
   "execution_count": 68,
   "id": "a2d27336-39cb-4e95-8420-190c093068d8",
   "metadata": {},
   "outputs": [
    {
     "name": "stdout",
     "output_type": "stream",
     "text": [
      "total_cost is = 1.054054054054054\n"
     ]
    },
    {
     "data": {
      "text/plain": [
       "1.054"
      ]
     },
     "execution_count": 68,
     "metadata": {},
     "output_type": "execute_result"
    }
   ],
   "source": [
    "# 7.Write a program using of round 3 Times?\n",
    "soap_price = 39\n",
    "sugar_price = 37\n",
    "average_of_total_cost = soap_price/sugar_price \n",
    "print(\"total_cost is =\", total_cost)\n",
    "round(total_cost,3)"
   ]
  },
  {
   "cell_type": "code",
   "execution_count": null,
   "id": "a6d8f216-cd36-49fb-b893-bc4565a48f42",
   "metadata": {},
   "outputs": [],
   "source": []
  }
 ],
 "metadata": {
  "kernelspec": {
   "display_name": "Python 3 (ipykernel)",
   "language": "python",
   "name": "python3"
  },
  "language_info": {
   "codemirror_mode": {
    "name": "ipython",
    "version": 3
   },
   "file_extension": ".py",
   "mimetype": "text/x-python",
   "name": "python",
   "nbconvert_exporter": "python",
   "pygments_lexer": "ipython3",
   "version": "3.12.7"
  }
 },
 "nbformat": 4,
 "nbformat_minor": 5
}
