{
 "cells": [
  {
   "cell_type": "code",
   "execution_count": 15,
   "id": "6f7d2c3f-9e3e-4fc4-adb6-973704e90069",
   "metadata": {},
   "outputs": [
    {
     "name": "stdout",
     "output_type": "stream",
     "text": [
      "Hello python\n"
     ]
    }
   ],
   "source": [
    "# Write a python program to print (Hello Python)\n",
    "print(\"Hello python\")"
   ]
  },
  {
   "cell_type": "code",
   "execution_count": 17,
   "id": "c33b5250-2f25-4091-9eba-0d3779dae146",
   "metadata": {},
   "outputs": [
    {
     "name": "stdout",
     "output_type": "stream",
     "text": [
      "Addition is =  30\n",
      "Division is =  0.5\n"
     ]
    }
   ],
   "source": [
    "# Write a python program to print arithmatical operation (addition and division)\n",
    "a = 10\n",
    "b = 20\n",
    "print(\"Addition is = \",a+b)\n",
    "print(\"Division is = \",a/b)"
   ]
  },
  {
   "cell_type": "code",
   "execution_count": 19,
   "id": "762d3be7-71e5-4d06-81de-457a04a214aa",
   "metadata": {},
   "outputs": [
    {
     "name": "stdout",
     "output_type": "stream",
     "text": [
      "Area = 100.0\n"
     ]
    }
   ],
   "source": [
    "# Write a pyhton program find area of triangle (Area of a Triangle = A = ½ (b × h) square units)\n",
    "b = 20\n",
    "h = 10 \n",
    "print(\"Area =\",0.5*(20*10))"
   ]
  },
  {
   "cell_type": "code",
   "execution_count": 32,
   "id": "d3a75aab-ae19-4049-89aa-372625c003bd",
   "metadata": {},
   "outputs": [
    {
     "name": "stdout",
     "output_type": "stream",
     "text": [
      "30\n",
      "Value of a = 30\n",
      "value of b = 10\n"
     ]
    }
   ],
   "source": [
    "# write a program swap two variable\n",
    "a = 10\n",
    "b = 30\n",
    "a,b = b,a\n",
    "\n",
    "print(\"Value of a =\",a)\n",
    "print(\"value of b =\",b)"
   ]
  },
  {
   "cell_type": "code",
   "execution_count": 50,
   "id": "57700e6c-0289-4771-8d21-f9edc2fc4133",
   "metadata": {},
   "outputs": [
    {
     "name": "stdout",
     "output_type": "stream",
     "text": [
      "0.9504535967267821\n"
     ]
    }
   ],
   "source": [
    "# Write a python program generate random number\n",
    "import random\n",
    "print(random.random())\n",
    "\n"
   ]
  },
  {
   "cell_type": "code",
   "execution_count": 60,
   "id": "ac3c7cc8-89fb-4b86-80ed-7169129b687c",
   "metadata": {},
   "outputs": [
    {
     "name": "stdout",
     "output_type": "stream",
     "text": [
      "Perimeter of Rectangle is = 46\n"
     ]
    }
   ],
   "source": [
    "# Write a program find Perimeter of a Rectangle = 2(Length + Breadth) and use round( time,3)?\n",
    "length = 20\n",
    "breath = 3\n",
    "print(\"Perimeter of Rectangle is =\",2*(length+breath))\n",
    "\n",
    "\n"
   ]
  },
  {
   "cell_type": "code",
   "execution_count": 62,
   "id": "a2d27336-39cb-4e95-8420-190c093068d8",
   "metadata": {},
   "outputs": [
    {
     "name": "stdout",
     "output_type": "stream",
     "text": [
      "total_cost is = 76\n"
     ]
    },
    {
     "ename": "NameError",
     "evalue": "name 'time' is not defined",
     "output_type": "error",
     "traceback": [
      "\u001b[1;31m---------------------------------------------------------------------------\u001b[0m",
      "\u001b[1;31mNameError\u001b[0m                                 Traceback (most recent call last)",
      "Cell \u001b[1;32mIn[62], line 6\u001b[0m\n\u001b[0;32m      4\u001b[0m total_cost \u001b[38;5;241m=\u001b[39m soap_price\u001b[38;5;241m+\u001b[39msugar_price \n\u001b[0;32m      5\u001b[0m \u001b[38;5;28mprint\u001b[39m(\u001b[38;5;124m\"\u001b[39m\u001b[38;5;124mtotal_cost is =\u001b[39m\u001b[38;5;124m\"\u001b[39m, total_cost)\n\u001b[1;32m----> 6\u001b[0m \u001b[38;5;28mround\u001b[39m(time,\u001b[38;5;241m3\u001b[39m)\n",
      "\u001b[1;31mNameError\u001b[0m: name 'time' is not defined"
     ]
    }
   ],
   "source": [
    "# Write a program using of round 3 Times?\n",
    "soap_price = 39\n",
    "sugar_price = 37\n",
    "avg_total_cost = soap_price/sugar_price \n",
    "print(\"total_cost is =\", total_cost)\n",
    "round(total_cost,3)"
   ]
  },
  {
   "cell_type": "code",
   "execution_count": null,
   "id": "a6d8f216-cd36-49fb-b893-bc4565a48f42",
   "metadata": {},
   "outputs": [],
   "source": []
  }
 ],
 "metadata": {
  "kernelspec": {
   "display_name": "Python 3 (ipykernel)",
   "language": "python",
   "name": "python3"
  },
  "language_info": {
   "codemirror_mode": {
    "name": "ipython",
    "version": 3
   },
   "file_extension": ".py",
   "mimetype": "text/x-python",
   "name": "python",
   "nbconvert_exporter": "python",
   "pygments_lexer": "ipython3",
   "version": "3.12.7"
  }
 },
 "nbformat": 4,
 "nbformat_minor": 5
}
